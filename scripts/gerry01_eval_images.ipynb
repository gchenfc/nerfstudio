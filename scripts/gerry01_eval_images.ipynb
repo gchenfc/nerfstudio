{
 "cells": [
  {
   "cell_type": "code",
   "execution_count": 2,
   "metadata": {},
   "outputs": [],
   "source": [
    "from __future__ import annotations\n",
    "\n",
    "import json\n",
    "from dataclasses import dataclass\n",
    "from pathlib import Path\n",
    "\n",
    "from nerfstudio.utils.eval_utils import eval_setup"
   ]
  },
  {
   "cell_type": "code",
   "execution_count": 5,
   "metadata": {},
   "outputs": [],
   "source": [
    "root = Path('/home/GPU/gchen/Dropbox/results_gerry/nerfstudio/')\n",
    "configs = [\n",
    "    root / 'outputs/iccv1-ablation-basil/iccv-1/2023-03-07_192830/config.yml',\n",
    "    root / 'outputs/iccv2-ablation-basil/iccv-2/2023-03-07_194520/config.yml',\n",
    "    root / 'outputs/iccv3-ablation-basil/iccv-3/2023-03-07_200126/config.yml',\n",
    "    root / 'outputs/iccv_main/iccv-4/2023-03-07_181622/config.yml',\n",
    "    root / 'outputs/iccv5-ablation-basil/iccv-5/2023-03-08_022816/config.yml',\n",
    "]"
   ]
  },
  {
   "cell_type": "code",
   "execution_count": 6,
   "metadata": {},
   "outputs": [
    {
     "ename": "FileNotFoundError",
     "evalue": "[Errno 2] No such file or directory: 'basil_hs/transforms.json'",
     "output_type": "error",
     "traceback": [
      "\u001b[0;31m---------------------------------------------------------------------------\u001b[0m",
      "\u001b[0;31mFileNotFoundError\u001b[0m                         Traceback (most recent call last)",
      "\u001b[1;32m/home/GPU/gchen/nerfstudio/scripts/gerry01_eval_images.ipynb Cell 3\u001b[0m in \u001b[0;36m1\n\u001b[0;32m----> <a href='vscode-notebook-cell://ssh-remote%2Bgaladriel/home/GPU/gchen/nerfstudio/scripts/gerry01_eval_images.ipynb#W2sdnNjb2RlLXJlbW90ZQ%3D%3D?line=0'>1</a>\u001b[0m config, pipeline, checkpoint_path \u001b[39m=\u001b[39m eval_setup(configs[\u001b[39m0\u001b[39;49m])\n",
      "File \u001b[0;32m~/nerfstudio/nerfstudio/utils/eval_utils.py:100\u001b[0m, in \u001b[0;36meval_setup\u001b[0;34m(config_path, eval_num_rays_per_chunk, test_mode)\u001b[0m\n\u001b[1;32m     98\u001b[0m \u001b[39m# setup pipeline (which includes the DataManager)\u001b[39;00m\n\u001b[1;32m     99\u001b[0m device \u001b[39m=\u001b[39m torch\u001b[39m.\u001b[39mdevice(\u001b[39m\"\u001b[39m\u001b[39mcuda\u001b[39m\u001b[39m\"\u001b[39m \u001b[39mif\u001b[39;00m torch\u001b[39m.\u001b[39mcuda\u001b[39m.\u001b[39mis_available() \u001b[39melse\u001b[39;00m \u001b[39m\"\u001b[39m\u001b[39mcpu\u001b[39m\u001b[39m\"\u001b[39m)\n\u001b[0;32m--> 100\u001b[0m pipeline \u001b[39m=\u001b[39m config\u001b[39m.\u001b[39;49mpipeline\u001b[39m.\u001b[39;49msetup(device\u001b[39m=\u001b[39;49mdevice, test_mode\u001b[39m=\u001b[39;49mtest_mode)\n\u001b[1;32m    101\u001b[0m \u001b[39massert\u001b[39;00m \u001b[39misinstance\u001b[39m(pipeline, Pipeline)\n\u001b[1;32m    102\u001b[0m pipeline\u001b[39m.\u001b[39meval()\n",
      "File \u001b[0;32m~/nerfstudio/nerfstudio/configs/base_config.py:57\u001b[0m, in \u001b[0;36mInstantiateConfig.setup\u001b[0;34m(self, **kwargs)\u001b[0m\n\u001b[1;32m     55\u001b[0m \u001b[39mdef\u001b[39;00m \u001b[39msetup\u001b[39m(\u001b[39mself\u001b[39m, \u001b[39m*\u001b[39m\u001b[39m*\u001b[39mkwargs) \u001b[39m-\u001b[39m\u001b[39m>\u001b[39m Any:\n\u001b[1;32m     56\u001b[0m \u001b[39m    \u001b[39m\u001b[39m\"\"\"Returns the instantiated object using the config.\"\"\"\u001b[39;00m\n\u001b[0;32m---> 57\u001b[0m     \u001b[39mreturn\u001b[39;00m \u001b[39mself\u001b[39;49m\u001b[39m.\u001b[39;49m_target(\u001b[39mself\u001b[39;49m, \u001b[39m*\u001b[39;49m\u001b[39m*\u001b[39;49mkwargs)\n",
      "File \u001b[0;32m~/nerfstudio/nerfstudio/pipelines/base_pipeline.py:223\u001b[0m, in \u001b[0;36mVanillaPipeline.__init__\u001b[0;34m(self, config, device, test_mode, world_size, local_rank)\u001b[0m\n\u001b[1;32m    221\u001b[0m \u001b[39mself\u001b[39m\u001b[39m.\u001b[39mconfig \u001b[39m=\u001b[39m config\n\u001b[1;32m    222\u001b[0m \u001b[39mself\u001b[39m\u001b[39m.\u001b[39mtest_mode \u001b[39m=\u001b[39m test_mode\n\u001b[0;32m--> 223\u001b[0m \u001b[39mself\u001b[39m\u001b[39m.\u001b[39mdatamanager: VanillaDataManager \u001b[39m=\u001b[39m config\u001b[39m.\u001b[39;49mdatamanager\u001b[39m.\u001b[39;49msetup(\n\u001b[1;32m    224\u001b[0m     device\u001b[39m=\u001b[39;49mdevice, test_mode\u001b[39m=\u001b[39;49mtest_mode, world_size\u001b[39m=\u001b[39;49mworld_size, local_rank\u001b[39m=\u001b[39;49mlocal_rank\n\u001b[1;32m    225\u001b[0m )\n\u001b[1;32m    226\u001b[0m \u001b[39mself\u001b[39m\u001b[39m.\u001b[39mdatamanager\u001b[39m.\u001b[39mto(device)\n\u001b[1;32m    227\u001b[0m \u001b[39m# TODO(ethan): get rid of scene_bounds from the model\u001b[39;00m\n",
      "File \u001b[0;32m~/nerfstudio/nerfstudio/configs/base_config.py:57\u001b[0m, in \u001b[0;36mInstantiateConfig.setup\u001b[0;34m(self, **kwargs)\u001b[0m\n\u001b[1;32m     55\u001b[0m \u001b[39mdef\u001b[39;00m \u001b[39msetup\u001b[39m(\u001b[39mself\u001b[39m, \u001b[39m*\u001b[39m\u001b[39m*\u001b[39mkwargs) \u001b[39m-\u001b[39m\u001b[39m>\u001b[39m Any:\n\u001b[1;32m     56\u001b[0m \u001b[39m    \u001b[39m\u001b[39m\"\"\"Returns the instantiated object using the config.\"\"\"\u001b[39;00m\n\u001b[0;32m---> 57\u001b[0m     \u001b[39mreturn\u001b[39;00m \u001b[39mself\u001b[39;49m\u001b[39m.\u001b[39;49m_target(\u001b[39mself\u001b[39;49m, \u001b[39m*\u001b[39;49m\u001b[39m*\u001b[39;49mkwargs)\n",
      "File \u001b[0;32m~/nerfstudio/nerfstudio/data/datamanagers/base_datamanager.py:329\u001b[0m, in \u001b[0;36mVanillaDataManager.__init__\u001b[0;34m(self, config, device, test_mode, world_size, local_rank, **kwargs)\u001b[0m\n\u001b[1;32m    327\u001b[0m \u001b[39mself\u001b[39m\u001b[39m.\u001b[39mtest_split \u001b[39m=\u001b[39m \u001b[39m\"\u001b[39m\u001b[39mtest\u001b[39m\u001b[39m\"\u001b[39m \u001b[39mif\u001b[39;00m test_mode \u001b[39min\u001b[39;00m [\u001b[39m\"\u001b[39m\u001b[39mtest\u001b[39m\u001b[39m\"\u001b[39m, \u001b[39m\"\u001b[39m\u001b[39minference\u001b[39m\u001b[39m\"\u001b[39m] \u001b[39melse\u001b[39;00m \u001b[39m\"\u001b[39m\u001b[39mval\u001b[39m\u001b[39m\"\u001b[39m\n\u001b[1;32m    328\u001b[0m \u001b[39mself\u001b[39m\u001b[39m.\u001b[39mdataparser \u001b[39m=\u001b[39m \u001b[39mself\u001b[39m\u001b[39m.\u001b[39mconfig\u001b[39m.\u001b[39mdataparser\u001b[39m.\u001b[39msetup()\n\u001b[0;32m--> 329\u001b[0m \u001b[39mself\u001b[39m\u001b[39m.\u001b[39mtrain_dataparser_outputs \u001b[39m=\u001b[39m \u001b[39mself\u001b[39;49m\u001b[39m.\u001b[39;49mdataparser\u001b[39m.\u001b[39;49mget_dataparser_outputs(split\u001b[39m=\u001b[39;49m\u001b[39m\"\u001b[39;49m\u001b[39mtrain\u001b[39;49m\u001b[39m\"\u001b[39;49m)\n\u001b[1;32m    331\u001b[0m \u001b[39mself\u001b[39m\u001b[39m.\u001b[39mtrain_dataset \u001b[39m=\u001b[39m \u001b[39mself\u001b[39m\u001b[39m.\u001b[39mcreate_train_dataset()\n\u001b[1;32m    332\u001b[0m \u001b[39mself\u001b[39m\u001b[39m.\u001b[39meval_dataset \u001b[39m=\u001b[39m \u001b[39mself\u001b[39m\u001b[39m.\u001b[39mcreate_eval_dataset()\n",
      "File \u001b[0;32m~/nerfstudio/nerfstudio/data/dataparsers/base_dataparser.py:139\u001b[0m, in \u001b[0;36mDataParser.get_dataparser_outputs\u001b[0;34m(self, split)\u001b[0m\n\u001b[1;32m    130\u001b[0m \u001b[39mdef\u001b[39;00m \u001b[39mget_dataparser_outputs\u001b[39m(\u001b[39mself\u001b[39m, split: \u001b[39mstr\u001b[39m \u001b[39m=\u001b[39m \u001b[39m\"\u001b[39m\u001b[39mtrain\u001b[39m\u001b[39m\"\u001b[39m) \u001b[39m-\u001b[39m\u001b[39m>\u001b[39m DataparserOutputs:\n\u001b[1;32m    131\u001b[0m \u001b[39m    \u001b[39m\u001b[39m\"\"\"Returns the dataparser outputs for the given split.\u001b[39;00m\n\u001b[1;32m    132\u001b[0m \n\u001b[1;32m    133\u001b[0m \u001b[39m    Args:\u001b[39;00m\n\u001b[0;32m   (...)\u001b[0m\n\u001b[1;32m    137\u001b[0m \u001b[39m        DataparserOutputs containing data for the specified dataset and split\u001b[39;00m\n\u001b[1;32m    138\u001b[0m \u001b[39m    \"\"\"\u001b[39;00m\n\u001b[0;32m--> 139\u001b[0m     dataparser_outputs \u001b[39m=\u001b[39m \u001b[39mself\u001b[39;49m\u001b[39m.\u001b[39;49m_generate_dataparser_outputs(split)\n\u001b[1;32m    140\u001b[0m     \u001b[39mreturn\u001b[39;00m dataparser_outputs\n",
      "File \u001b[0;32m~/nerfstudio/nerfstudio/data/dataparsers/nerfstudio_dataparser.py:93\u001b[0m, in \u001b[0;36mNerfstudio._generate_dataparser_outputs\u001b[0;34m(self, split)\u001b[0m\n\u001b[1;32m     91\u001b[0m     data_dir \u001b[39m=\u001b[39m \u001b[39mself\u001b[39m\u001b[39m.\u001b[39mconfig\u001b[39m.\u001b[39mdata\u001b[39m.\u001b[39mparent\n\u001b[1;32m     92\u001b[0m \u001b[39melse\u001b[39;00m:\n\u001b[0;32m---> 93\u001b[0m     meta \u001b[39m=\u001b[39m load_from_json(\u001b[39mself\u001b[39;49m\u001b[39m.\u001b[39;49mconfig\u001b[39m.\u001b[39;49mdata \u001b[39m/\u001b[39;49m \u001b[39m\"\u001b[39;49m\u001b[39mtransforms.json\u001b[39;49m\u001b[39m\"\u001b[39;49m)\n\u001b[1;32m     94\u001b[0m     data_dir \u001b[39m=\u001b[39m \u001b[39mself\u001b[39m\u001b[39m.\u001b[39mconfig\u001b[39m.\u001b[39mdata\n\u001b[1;32m     96\u001b[0m image_filenames \u001b[39m=\u001b[39m []\n",
      "File \u001b[0;32m~/nerfstudio/nerfstudio/utils/io.py:30\u001b[0m, in \u001b[0;36mload_from_json\u001b[0;34m(filename)\u001b[0m\n\u001b[1;32m     24\u001b[0m \u001b[39m\u001b[39m\u001b[39m\"\"\"Load a dictionary from a JSON filename.\u001b[39;00m\n\u001b[1;32m     25\u001b[0m \n\u001b[1;32m     26\u001b[0m \u001b[39mArgs:\u001b[39;00m\n\u001b[1;32m     27\u001b[0m \u001b[39m    filename: The filename to load from.\u001b[39;00m\n\u001b[1;32m     28\u001b[0m \u001b[39m\"\"\"\u001b[39;00m\n\u001b[1;32m     29\u001b[0m \u001b[39massert\u001b[39;00m filename\u001b[39m.\u001b[39msuffix \u001b[39m==\u001b[39m \u001b[39m\"\u001b[39m\u001b[39m.json\u001b[39m\u001b[39m\"\u001b[39m\n\u001b[0;32m---> 30\u001b[0m \u001b[39mwith\u001b[39;00m \u001b[39mopen\u001b[39;49m(filename, encoding\u001b[39m=\u001b[39;49m\u001b[39m\"\u001b[39;49m\u001b[39mUTF-8\u001b[39;49m\u001b[39m\"\u001b[39;49m) \u001b[39mas\u001b[39;00m file:\n\u001b[1;32m     31\u001b[0m     \u001b[39mreturn\u001b[39;00m json\u001b[39m.\u001b[39mload(file)\n",
      "\u001b[0;31mFileNotFoundError\u001b[0m: [Errno 2] No such file or directory: 'basil_hs/transforms.json'"
     ]
    }
   ],
   "source": [
    "config, pipeline, checkpoint_path = eval_setup(configs[0])"
   ]
  },
  {
   "cell_type": "code",
   "execution_count": null,
   "metadata": {},
   "outputs": [],
   "source": [
    "assert self.output_path.suffix == \".json\"\n",
    "metrics_dict = pipeline.get_average_eval_image_metrics()\n",
    "\n",
    "\n",
    "\n",
    "\n",
    "\n",
    "\n",
    "\n",
    "\n",
    "self.output_path.parent.mkdir(parents=True, exist_ok=True)\n",
    "# Get the output and define the names to save to\n",
    "benchmark_info = {\n",
    "    \"experiment_name\": config.experiment_name,\n",
    "    \"method_name\": config.method_name,\n",
    "    \"checkpoint\": str(checkpoint_path),\n",
    "    \"results\": metrics_dict,\n",
    "}\n",
    "if self.run_train_metrics:\n",
    "    metrics_dict2 = pipeline.get_average_train_image_metrics()\n",
    "    benchmark_info[\"results_train\"] = metrics_dict2\n",
    "# Save output to output file\n",
    "self.output_path.write_text(json.dumps(benchmark_info, indent=2), \"utf8\")\n",
    "CONSOLE.print(f\"Saved results to: {self.output_path}\")\n"
   ]
  }
 ],
 "metadata": {
  "kernelspec": {
   "display_name": "nerfstudio",
   "language": "python",
   "name": "python3"
  },
  "language_info": {
   "codemirror_mode": {
    "name": "ipython",
    "version": 3
   },
   "file_extension": ".py",
   "mimetype": "text/x-python",
   "name": "python",
   "nbconvert_exporter": "python",
   "pygments_lexer": "ipython3",
   "version": "3.8.10"
  },
  "orig_nbformat": 4
 },
 "nbformat": 4,
 "nbformat_minor": 2
}
