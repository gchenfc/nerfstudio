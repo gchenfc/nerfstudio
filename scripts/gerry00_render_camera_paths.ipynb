{
 "cells": [
  {
   "cell_type": "code",
   "execution_count": null,
   "metadata": {},
   "outputs": [],
   "source": [
    "import numpy as np\n",
    "import json\n",
    "from pathlib import Path\n",
    "import plotly.express as px"
   ]
  },
  {
   "cell_type": "code",
   "execution_count": null,
   "metadata": {},
   "outputs": [],
   "source": [
    "example_camera_path_fname = Path('example_camera_path.json')\n",
    "data = json.load(open(example_camera_path_fname))\n",
    "print(data.keys())"
   ]
  },
  {
   "cell_type": "code",
   "execution_count": null,
   "metadata": {},
   "outputs": [],
   "source": [
    "T_camera_paths = np.array([path['camera_to_world'] for path in data['camera_path']]).reshape(-1, 4, 4)\n",
    "str2arr = lambda s: np.fromstring(s[1:-1], sep=',').reshape(4, 4).T\n",
    "T_keyframes = np.array([str2arr(kf['matrix']) for kf in data['keyframes']]).reshape(-1, 4, 4)\n",
    "# print(T_camera_paths)\n",
    "# print(T_keyframes)\n",
    "print(T_camera_paths.shape, T_keyframes.shape)"
   ]
  },
  {
   "attachments": {},
   "cell_type": "markdown",
   "metadata": {},
   "source": [
    "Notice that 96 is the number of total frames: 4s * 24fps = 96 frames..."
   ]
  },
  {
   "cell_type": "code",
   "execution_count": null,
   "metadata": {},
   "outputs": [],
   "source": [
    "fig = px.scatter_3d(x=T_camera_paths[:, 0, 3], y=T_camera_paths[:, 1, 3], z=T_camera_paths[:, 2, 3])\n",
    "fig.add_scatter3d(x=T_keyframes[:, 0, 3], y=T_keyframes[:, 1, 3], z=T_keyframes[:, 2, 3])\n",
    "fig.update_layout(scene_aspectmode='data')\n",
    "fig.show()"
   ]
  },
  {
   "attachments": {},
   "cell_type": "markdown",
   "metadata": {},
   "source": [
    "Let's create just a perfect circle of camera frames"
   ]
  },
  {
   "cell_type": "code",
   "execution_count": null,
   "metadata": {},
   "outputs": [],
   "source": [
    "# print(T_keyframes[:, :3, 3])\n",
    "print(f'mean z height: {T_keyframes[:, 2, 3].mean()}')\n",
    "print(f'mean radius: {np.sqrt((T_keyframes[:, 0, 3]**2 + T_keyframes[:, 1, 3]**2).mean())}')\n",
    "fig = px.line(x=T_keyframes[:, 0, 3], y=T_keyframes[:, 1, 3])\n",
    "fig.update_layout(scene=dict(aspectmode='data'), width=300, height=300)\n",
    "fig.show()"
   ]
  },
  {
   "cell_type": "code",
   "execution_count": null,
   "metadata": {},
   "outputs": [],
   "source": [
    "look_at = np.array([0, 0, 0])\n",
    "R = 2.75\n",
    "height = 1.0\n",
    "data['fps'] = 3\n",
    "num_images = data['fps'] * data['seconds']\n",
    "t = np.linspace(0, np.pi*2, num_images, endpoint=False)[:, None]\n",
    "positions = np.hstack((R * np.cos(t), R * np.sin(t), height*np.ones_like(t)))\n",
    "\n",
    "def pos_lookat_to_matrix(pos, look_at):\n",
    "    z = -(look_at - pos) / np.linalg.norm(look_at - pos)\n",
    "    x = np.cross(np.array([0, 0, 1]), z)\n",
    "    x = x / np.linalg.norm(x)\n",
    "    y = np.cross(z, x)\n",
    "    y = y / np.linalg.norm(y)\n",
    "    return np.vstack((np.array([x, y, z, pos]).T, np.array([0, 0, 0, 1])))\n",
    "\n",
    "T_camera_paths_new = np.array([pos_lookat_to_matrix(pos, look_at) for pos in positions])\n",
    "fig = px.scatter_3d(x=T_camera_paths[:, 0, 3], y=T_camera_paths[:, 1, 3], z=T_camera_paths[:, 2, 3])\n",
    "fig.add_scatter3d(x=T_keyframes[:, 0, 3], y=T_keyframes[:, 1, 3], z=T_keyframes[:, 2, 3])\n",
    "fig.add_scatter3d(x=T_camera_paths_new[:, 0, 3], y=T_camera_paths_new[:, 1, 3], z=T_camera_paths_new[:, 2, 3])\n",
    "fig.update_layout(scene_aspectmode='data')\n",
    "fig.show()"
   ]
  },
  {
   "attachments": {},
   "cell_type": "markdown",
   "metadata": {},
   "source": [
    "Now export"
   ]
  },
  {
   "cell_type": "code",
   "execution_count": null,
   "metadata": {},
   "outputs": [],
   "source": [
    "print(data['camera_path'][0])\n",
    "def create_cam_path(T):\n",
    "    # return {'camera_to_world': T.flatten().tolist(), 'fov': 50, 'aspect': 16 / 9}\n",
    "    return {'camera_to_world': T.flatten().tolist(), 'fov': 50, 'aspect': 9 / 16}\n",
    "data['render_height'] = 800\n",
    "data['render_width'] = 450\n",
    "\n",
    "data['camera_path'] = [create_cam_path(T) for T in T_camera_paths_new]\n",
    "json.dump(data, open('circular_camera_path_3fps.json', 'w'), indent=2)"
   ]
  },
  {
   "cell_type": "code",
   "execution_count": null,
   "metadata": {},
   "outputs": [],
   "source": [
    "# Also create a version that's at the same camera angles etc. that we expect of the real camera\n",
    "scale_factor, z_height = 6.839369428962543 * 2, -0.09478698496603671\n",
    "fx, fy, cx, cy = 4760.20112255793, 4754.1622443218685, 348.0, 260.0\n",
    "FOV = max(np.rad2deg(2 * np.arctan(cx / fx)), np.rad2deg(2 * np.arctan(cy / fy)))\n",
    "R, height = scale_factor, z_height * scale_factor\n",
    "t = np.linspace(0, np.pi*2, 24, endpoint=False)[:, None]\n",
    "positions = np.hstack((R * np.cos(t), R * np.sin(t), height*np.ones_like(t)))\n",
    "T_camera_paths_new = np.array([pos_lookat_to_matrix(pos, look_at) for pos in positions])\n",
    "def create_cam_path(T):\n",
    "    # return {'camera_to_world': T.flatten().tolist(), 'fov': 50, 'aspect': 16 / 9}\n",
    "    return {'camera_to_world': T.flatten().tolist(), 'fov': FOV, 'aspect': cx / cy}\n",
    "data['render_height'] = cy * 2\n",
    "data['render_width'] = cx * 2\n",
    "data['fps'] = 24 / 4  # 6 fps\n",
    "data['camera_path'] = [create_cam_path(T) for T in T_camera_paths_new]\n",
    "json.dump(data, open('circular_camera_path_cameras.json', 'w'), indent=2)"
   ]
  },
  {
   "attachments": {},
   "cell_type": "markdown",
   "metadata": {},
   "source": [
    "So basically, keyframes is the keyframes that we specified, and then `camera_path` is the full interpolated camera poses.\n",
    "\n",
    "We probably want to be able to do this interpolation ourself too.\n",
    "\n",
    "If we look at `curve.js:get_curve_object_from_cameras`, we can see that it's using a Catmull-Rom spline to interpolate the camera poses."
   ]
  },
  {
   "cell_type": "code",
   "execution_count": null,
   "metadata": {},
   "outputs": [],
   "source": [
    "# Modified from wikipedia\n",
    "\n",
    "\n",
    "QUADRUPLE_SIZE: int = 4\n",
    "\n",
    "\n",
    "def num_segments(point_chain: tuple) -> int:\n",
    "    # There is 1 segment per 4 points, so we must subtract 3 from the number of points  \n",
    "    return len(point_chain) - (QUADRUPLE_SIZE - 1)\n",
    "\n",
    "\n",
    "def catmull_rom_spline3(\n",
    "    P0: tuple,\n",
    "    P1: tuple,\n",
    "    P2: tuple,\n",
    "    P3: tuple,\n",
    "    num_points: int,\n",
    "    alpha: float = 0.5,\n",
    "):\n",
    "    \"\"\"\n",
    "    Compute the points in the spline segment\n",
    "    :param P0, P1, P2, and P3: The (x,y) point pairs that define the Catmull-Rom spline\n",
    "    :param num_points: The number of points to include in the resulting curve segment\n",
    "    :param alpha: 0.5 for the centripetal spline, 0.0 for the uniform spline, 1.0 for the chordal spline.\n",
    "    :return: The points\n",
    "    \"\"\"\n",
    "\n",
    "    # Calculate t0 to t4. Then only calculate points between P1 and P2.\n",
    "    # Reshape linspace so that we can multiply by the points P0 to P3\n",
    "    # and get a point for each value of t.\n",
    "    def tj(ti: float, pi: tuple, pj: tuple) -> float:\n",
    "        xi, yi = pi\n",
    "        xj, yj = pj\n",
    "        dx, dy = xj - xi, yj - yi\n",
    "        l = (dx ** 2 + dy ** 2) ** 0.5\n",
    "        return ti + l ** alpha\n",
    "\n",
    "    t0: float = 0.0\n",
    "    t1: float = tj(t0, P0, P1)\n",
    "    t2: float = tj(t1, P1, P2)\n",
    "    t3: float = tj(t2, P2, P3)\n",
    "    t = numpy.linspace(t1, t2, num_points).reshape(num_points, 1)\n",
    "\n",
    "    A1 = (t1 - t) / (t1 - t0) * P0 + (t - t0) / (t1 - t0) * P1\n",
    "    A2 = (t2 - t) / (t2 - t1) * P1 + (t - t1) / (t2 - t1) * P2\n",
    "    A3 = (t3 - t) / (t3 - t2) * P2 + (t - t2) / (t3 - t2) * P3\n",
    "    B1 = (t2 - t) / (t2 - t0) * A1 + (t - t0) / (t2 - t0) * A2\n",
    "    B2 = (t3 - t) / (t3 - t1) * A2 + (t - t1) / (t3 - t1) * A3\n",
    "    points = (t2 - t) / (t2 - t1) * B1 + (t - t1) / (t2 - t1) * B2\n",
    "    return points\n",
    "\n",
    "\n",
    "def catmull_rom_chain(points: tuple, num_points: int) -> list:\n",
    "    \"\"\"\n",
    "    Calculate Catmull-Rom for a sequence of initial points and return the combined curve.\n",
    "    :param points: Base points from which the quadruples for the algorithm are taken\n",
    "    :param num_points: The number of points to include in each curve segment\n",
    "    :return: The chain of all points (points of all segments)\n",
    "    \"\"\"\n",
    "    point_quadruples = (\n",
    "        (points[idx_segment_start + d] for d in range(QUADRUPLE_SIZE))\n",
    "        for idx_segment_start in range(num_segments(points))\n",
    "    )\n",
    "    all_splines = (catmull_rom_spline(*q, num_points) for q in point_quadruples)\n",
    "\n",
    "    chain = [chain_point for spline in all_splines for chain_point in spline]  # flatten\n",
    "    return chain\n",
    "catmull_rom_chain(np.arange(15), 100)"
   ]
  },
  {
   "cell_type": "code",
   "execution_count": null,
   "metadata": {},
   "outputs": [],
   "source": [
    "T_interpolated = generate_interpolated_path(T_keyframes, 96, )\n",
    "fig.add_scatter3d(x=T_interpolated[:, 0, 3], y=T_interpolated[:, 1, 3], z=T_interpolated[:, 2, 3])"
   ]
  },
  {
   "cell_type": "code",
   "execution_count": null,
   "metadata": {},
   "outputs": [],
   "source": []
  }
 ],
 "metadata": {
  "kernelspec": {
   "display_name": "base",
   "language": "python",
   "name": "python3"
  },
  "language_info": {
   "codemirror_mode": {
    "name": "ipython",
    "version": 3
   },
   "file_extension": ".py",
   "mimetype": "text/x-python",
   "name": "python",
   "nbconvert_exporter": "python",
   "pygments_lexer": "ipython3",
   "version": "3.10.8 | packaged by conda-forge | (main, Nov 22 2022, 08:23:14) [GCC 10.4.0]"
  },
  "orig_nbformat": 4,
  "vscode": {
   "interpreter": {
    "hash": "ddb516d765625389a1032c2032ba6ce041aa8d21b7085b0ade15567c71aaa862"
   }
  }
 },
 "nbformat": 4,
 "nbformat_minor": 2
}
