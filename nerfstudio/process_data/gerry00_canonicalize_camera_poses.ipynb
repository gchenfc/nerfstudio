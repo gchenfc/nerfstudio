{
 "cells": [
  {
   "cell_type": "code",
   "execution_count": null,
   "metadata": {},
   "outputs": [],
   "source": [
    "%load_ext autoreload\n",
    "%autoreload 2"
   ]
  },
  {
   "cell_type": "code",
   "execution_count": null,
   "metadata": {},
   "outputs": [],
   "source": [
    "import json\n",
    "import numpy as np\n",
    "from pathlib import Path\n",
    "import plotly\n",
    "import plotly.graph_objs as go\n",
    "import plotly.express as px\n",
    "plotly.offline.init_notebook_mode() # inline\n",
    "import canonicalize_camera_poses"
   ]
  },
  {
   "cell_type": "code",
   "execution_count": null,
   "metadata": {},
   "outputs": [],
   "source": [
    "root = Path('/home/gerry/Dropbox/Hydroponics/hyperspectral/GTRI_proof_of_concept/results_gerry/nerfstudio/test')\n",
    "data = json.load(open(root / 'transforms.json', 'r'))"
   ]
  },
  {
   "attachments": {},
   "cell_type": "markdown",
   "metadata": {},
   "source": [
    "## First plot initial example data"
   ]
  },
  {
   "cell_type": "code",
   "execution_count": null,
   "metadata": {},
   "outputs": [],
   "source": [
    "frames = data['frames']\n",
    "frames = sorted(data['frames'], key=lambda frame: frame['file_path'])\n",
    "Ts = np.array([frame['transform_matrix'] for frame in frames])"
   ]
  },
  {
   "cell_type": "code",
   "execution_count": null,
   "metadata": {},
   "outputs": [],
   "source": [
    "fig = px.scatter_3d(x=Ts[:, 0, 3], y=Ts[:, 1, 3], z=Ts[:, 2, 3], width=500, height=300)\n",
    "fig.update_layout(margin=dict(l=20, r=20, t=20, b=20))\n",
    "fig.show()"
   ]
  },
  {
   "attachments": {},
   "cell_type": "markdown",
   "metadata": {},
   "source": [
    "## Try to compute / correct for rotation, translation, and scale"
   ]
  },
  {
   "cell_type": "code",
   "execution_count": null,
   "metadata": {},
   "outputs": [],
   "source": [
    "# Vector between first image and the farthest away image should be x-axis.\n",
    "ts = Ts[:, :3, 3]\n",
    "dists = np.sqrt(np.sum(np.square(ts[:,:,None] - ts.T[None, :, :]), axis=1))\n",
    "farthest_image = np.argmax(dists[0][:25])\n",
    "print(farthest_image)\n",
    "# JK I don't want to take this approach"
   ]
  },
  {
   "cell_type": "code",
   "execution_count": null,
   "metadata": {},
   "outputs": [],
   "source": [
    "# Find (and remove) duplicate images\n",
    "ts = Ts[:, :3, 3]\n",
    "dists = np.sqrt(np.sum(np.square(ts[:,:,None] - ts.T[None, :, :]), axis=1))\n",
    "dists /= np.max(dists)\n",
    "# max distance is radius.  Image every 15 degrees means nearest distance should be d*pi*(15°/360°)\n",
    "np.fill_diagonal(dists, 1)  # Ignore diagonal\n",
    "px.imshow(dists < np.pi * (15/360) / 2, height=300).show()"
   ]
  },
  {
   "cell_type": "code",
   "execution_count": null,
   "metadata": {},
   "outputs": [],
   "source": [
    "duplicates = np.argwhere(dists < np.pi * (15/360) / 2)\n",
    "print(duplicates)\n",
    "to_take = list(range(len(frames)))\n",
    "for _, dup in filter(lambda dup: dup[0] < dup[1], duplicates):\n",
    "    to_take.remove(dup)\n",
    "print(len(to_take), to_take)\n",
    "assert len(to_take) == 48, 'An unexpected number of camera poses was found'\n",
    "\n",
    "# Find which is the bigger circle\n",
    "if dists[to_take[0], to_take[11]] > dists[to_take[24], to_take[35]]:\n",
    "    big_circle = to_take[:24]\n",
    "else:\n",
    "    big_circle = to_take[24:]\n",
    "\n",
    "theta = -(np.arange(0, 360, 15) * np.pi / 180).reshape(-1, 1)\n",
    "expected = np.hstack((np.cos(theta), np.sin(theta), np.zeros_like(theta)))\n",
    "_, sR, t = canonicalize_camera_poses.ICP_transform_with_scale(ts[big_circle], expected)\n",
    "print(sR, t)"
   ]
  },
  {
   "cell_type": "code",
   "execution_count": null,
   "metadata": {},
   "outputs": [],
   "source": [
    "T = np.zeros((4, 4))\n",
    "T[:3, :3] = sR\n",
    "T[:3, 3] = t\n",
    "T[3, 3] = 1\n",
    "print(T)\n",
    "print(T.shape, Ts.shape)\n",
    "new_Ts = T @ Ts\n",
    "print(new_Ts.shape)\n",
    "fig = px.scatter_3d(x=new_Ts[:, 0, 3], y=new_Ts[:, 1, 3], z=new_Ts[:, 2, 3], width=500, height=300)\n",
    "fig.update_layout(scene=dict(aspectmode='data'))\n",
    "fig.show()"
   ]
  },
  {
   "attachments": {},
   "cell_type": "markdown",
   "metadata": {},
   "source": [
    "### Implement in `canonicalize_camera_poses` and test"
   ]
  },
  {
   "cell_type": "code",
   "execution_count": null,
   "metadata": {},
   "outputs": [],
   "source": [
    "frames = canonicalize_camera_poses.canonicalize_camera_poses(data['frames'])\n",
    "Ts = np.array([frame['transform_matrix'] for frame in frames])\n",
    "fig = px.scatter_3d(x=Ts[:, 0, 3], y=Ts[:, 1, 3], z=Ts[:, 2, 3], width=500, height=300)\n",
    "fig.update_layout(margin=dict(l=20, r=20, t=20, b=20), scene=dict(aspectmode='data'))\n",
    "fig.show()"
   ]
  },
  {
   "attachments": {},
   "cell_type": "markdown",
   "metadata": {},
   "source": [
    "## Finally, correct so that the subject is in the center\n",
    "(The cameras are looking slightly downwards)"
   ]
  },
  {
   "cell_type": "code",
   "execution_count": null,
   "metadata": {},
   "outputs": [],
   "source": [
    "Ts = np.array([frame['transform_matrix'] for frame in frames])\n",
    "fx, fy, cx, cy = data['fl_x'], data['fl_y'], data['cx'], data['cy']\n",
    "\n",
    "R, t = Ts[0, :3, :3], Ts[0, :3, 3]\n",
    "ray_angle = R[:, 2].reshape(-1, 1)\n",
    "ray_angle /= np.linalg.norm(ray_angle)\n",
    "s = np.linspace(0, 1)\n",
    "ray = (t[:, None] + -ray_angle * s).T\n",
    "# px.line_3d(x=ray[:, 0], y = ray[:, 1], z=ray[:, 2]).show()\n",
    "fig.add_scatter3d(x=ray[:, 0], y = ray[:, 1], z=ray[:, 2], mode='lines')\n",
    "fig.show()"
   ]
  },
  {
   "cell_type": "code",
   "execution_count": null,
   "metadata": {},
   "outputs": [],
   "source": [
    "# Denote v := closest vector along the ray that ends at the z-axis.\n",
    "# v_xy = proj(x_xy -> ray_xy)\n",
    "# v_xy = proj(v -> xy)\n",
    "x_xy = -t[:2]\n",
    "ray_angle = ray_angle.squeeze()\n",
    "ray_xy = ray_angle[:2]\n",
    "v_xy = np.dot(x_xy, ray_xy) * ray_xy / np.sum(np.square(ray_xy))\n",
    "print(x_xy, ray_xy, v_xy)\n",
    "assert v_xy[0] / ray_angle[0] == v_xy[1] / ray_angle[1], 'v_xy is not a projection of v onto xy'\n",
    "dz_height = ray_angle[2] * v_xy[0] / ray_angle[0]\n",
    "z_height = dz_height + t[2]\n",
    "v_xy = np.array([*v_xy, dz_height])\n",
    "print(z_height, dz_height, v_xy)\n",
    "# closest_vec_to_z_axis = \n",
    "# z_height = \n",
    "end_of_ray = t + v_xy\n",
    "fig.add_scatter3d(x=[end_of_ray[0]], y = [end_of_ray[1]], z=[end_of_ray[2]])"
   ]
  },
  {
   "attachments": {},
   "cell_type": "markdown",
   "metadata": {},
   "source": [
    "Vectorized version"
   ]
  },
  {
   "cell_type": "code",
   "execution_count": null,
   "metadata": {},
   "outputs": [],
   "source": [
    "ray_dirs, ts = Ts[:, :3, 2], Ts[:, :3, 3]\n",
    "\n",
    "x_xy = -ts[:, :2]\n",
    "ray_xy = ray_dirs[:, :2]\n",
    "v_xy = np.sum(x_xy * ray_xy, axis=1)[:, None] * ray_xy / np.sum(np.square(ray_xy), axis=1)[:, None]\n",
    "ratios = v_xy / ray_xy\n",
    "np.testing.assert_allclose(*ratios.T, err_msg='v_xy is not a projection of v onto xy')\n",
    "dz_height = ray_dirs[:, 2] * ratios[:, 0]\n",
    "v_xy = np.hstack((v_xy, dz_height[:, None]))\n",
    "z_height = dz_height + ts[:, 2]\n",
    "print(z_height)\n",
    "z_height = np.mean(z_height)\n",
    "print(z_height)\n",
    "\n",
    "ts_new = ts\n",
    "ts_new[:, 2] -= z_height"
   ]
  },
  {
   "cell_type": "code",
   "execution_count": null,
   "metadata": {},
   "outputs": [],
   "source": [
    "# Plot\n",
    "end_of_ray = ts + v_xy\n",
    "rays = np.stack((ts, ts - ray_dirs / np.linalg.norm(ray_dirs, axis=1, keepdims=True)), axis=2)\n",
    "\n",
    "fig = px.scatter_3d(x=ts[:, 0], y=ts[:, 1], z=ts[:, 2], width=500, height=300)\n",
    "for ray in rays:\n",
    "    fig.add_scatter3d(x=ray[0, :], y = ray[1, :], z=ray[2, :], mode='lines', line=dict(color='red', width=1))\n",
    "fig.add_scatter3d(x=end_of_ray[:, 0], y = end_of_ray[:, 1], z=end_of_ray[:, 2], marker=dict(color='green', size=4))\n",
    "fig.update_layout(margin=dict(l=20, r=20, t=20, b=20), scene=dict(aspectmode='data'))\n",
    "fig.show()"
   ]
  },
  {
   "attachments": {},
   "cell_type": "markdown",
   "metadata": {},
   "source": [
    "### And rescale so that the FOV is unit block centered at origin\n",
    "(-0.5, 0.5)"
   ]
  },
  {
   "cell_type": "code",
   "execution_count": null,
   "metadata": {},
   "outputs": [],
   "source": [
    "radius = 1\n",
    "max_x, max_y = radius * cx / fx, radius * cy / fy\n",
    "print(max_x, max_y)\n",
    "scale_factor = 0.5 / max(max_x, max_y)\n",
    "ts_new *= scale_factor"
   ]
  },
  {
   "cell_type": "code",
   "execution_count": null,
   "metadata": {},
   "outputs": [],
   "source": [
    "# Plot\n",
    "end_of_ray = ts_new + v_xy * scale_factor\n",
    "rays = np.stack((ts_new, ts_new - ray_dirs / np.linalg.norm(ray_dirs, axis=1, keepdims=True) * scale_factor), axis=2)\n",
    "\n",
    "fig = px.scatter_3d(x=ts_new[:, 0], y=ts_new[:, 1], z=ts_new[:, 2], width=500, height=300)\n",
    "for ray in rays:\n",
    "    fig.add_scatter3d(x=ray[0, :], y = ray[1, :], z=ray[2, :], mode='lines', line=dict(color='red', width=1))\n",
    "fig.add_scatter3d(x=end_of_ray[:, 0], y = end_of_ray[:, 1], z=end_of_ray[:, 2], marker=dict(color='green', size=4))\n",
    "fig.update_layout(margin=dict(l=20, r=20, t=20, b=20), scene=dict(aspectmode='data'))\n",
    "fig.show()"
   ]
  },
  {
   "attachments": {},
   "cell_type": "markdown",
   "metadata": {},
   "source": [
    "## Test canonicalize_camera_poses version"
   ]
  },
  {
   "cell_type": "code",
   "execution_count": null,
   "metadata": {},
   "outputs": [],
   "source": [
    "data['frames'] = canonicalize_camera_poses.canonicalize_camera_poses(data['frames'])\n",
    "data = canonicalize_camera_poses.center_roi(data)\n",
    "Ts = np.array([frame['transform_matrix'] for frame in data['frames']])\n",
    "\n",
    "fig = px.scatter_3d(x=Ts[:, 0, 3], y=Ts[:, 1, 3], z=Ts[:, 2, 3], width=500, height=300)\n",
    "fig.add_scatter3d(x=[0], y=[0], z=[0], marker=dict(color='green', size=4))\n",
    "fig.update_layout(margin=dict(l=20, r=20, t=20, b=20), scene=dict(aspectmode='data'))\n",
    "fig.show()"
   ]
  },
  {
   "cell_type": "code",
   "execution_count": null,
   "metadata": {},
   "outputs": [],
   "source": []
  }
 ],
 "metadata": {
  "kernelspec": {
   "display_name": "base",
   "language": "python",
   "name": "python3"
  },
  "language_info": {
   "codemirror_mode": {
    "name": "ipython",
    "version": 3
   },
   "file_extension": ".py",
   "mimetype": "text/x-python",
   "name": "python",
   "nbconvert_exporter": "python",
   "pygments_lexer": "ipython3",
   "version": "3.10.8"
  },
  "orig_nbformat": 4,
  "vscode": {
   "interpreter": {
    "hash": "ddb516d765625389a1032c2032ba6ce041aa8d21b7085b0ade15567c71aaa862"
   }
  }
 },
 "nbformat": 4,
 "nbformat_minor": 2
}
